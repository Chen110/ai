{
 "cells": [
  {
   "cell_type": "markdown",
   "metadata": {},
   "source": [
    "# Create KG with XMind"
   ]
  },
  {
   "cell_type": "markdown",
   "metadata": {},
   "source": [
    "## 导入依赖项"
   ]
  },
  {
   "cell_type": "code",
   "execution_count": 117,
   "metadata": {
    "collapsed": true
   },
   "outputs": [],
   "source": [
    "import os\n",
    "import string\n",
    "import xlrd\n",
    "from py2neo import Graph, Node, Relationship, NodeSelector"
   ]
  },
  {
   "cell_type": "markdown",
   "metadata": {},
   "source": [
    "## 读取 Excel 文件"
   ]
  },
  {
   "cell_type": "code",
   "execution_count": 118,
   "metadata": {
    "collapsed": true
   },
   "outputs": [],
   "source": [
    "def read_excel(filepath):\n",
    "    \"\"\"Get excel source\n",
    "\n",
    "    Args:\n",
    "        filepath: The full path of excel file. excel文件完整路径。\n",
    "\n",
    "    Returns:\n",
    "        data: Data of excel. excel数据。\n",
    "    \"\"\"\n",
    "    is_valid = False\n",
    "    try:\n",
    "        if os.path.isfile(filepath):\n",
    "            filename = os.path.basename(filepath)\n",
    "            if filename.split('.')[1] == 'xls':\n",
    "                is_valid = True\n",
    "        data = None\n",
    "        if is_valid:\n",
    "            data = xlrd.open_workbook(filepath, formatting_info=True)\n",
    "    except Exception as xls_error:\n",
    "        raise TypeError(\"Can't get data from excel!\") from xls_error\n",
    "    return data"
   ]
  },
  {
   "cell_type": "code",
   "execution_count": 119,
   "metadata": {},
   "outputs": [
    {
     "name": "stdout",
     "output_type": "stream",
     "text": [
      "<xlrd.book.Book object at 0x0000020DCACB4D30>\n"
     ]
    }
   ],
   "source": [
    "print(read_excel(\"./sample/kg.xls\"))"
   ]
  },
  {
   "cell_type": "markdown",
   "metadata": {},
   "source": [
    "## 定义知识图谱"
   ]
  },
  {
   "cell_type": "code",
   "execution_count": 122,
   "metadata": {},
   "outputs": [],
   "source": [
    "class KG():\n",
    "    \"\"\"Knowledge Graph.\n",
    "    知识图谱。\n",
    "    \"\"\"\n",
    "    def __init__(self, password=\"train\", userid=\"userid\", is_admin=True):\n",
    "        self.is_admin = is_admin\n",
    "        self.graph = Graph(\"http://localhost:7474/db/data\", password=password)\n",
    "        self.selector = NodeSelector(self.graph)\n",
    "        self.xmind = {}\n",
    "\n",
    "    def merge(self, filepath=None, custom_sheets=None):\n",
    "        assert filepath is not None, \"The merge filepath can not be None.\"\n",
    "        data = read_excel(filepath)\n",
    "        data_sheets = data.sheet_names()\n",
    "        if custom_sheets:\n",
    "            sheet_names = list(set(data_sheets).intersection(set(custom_sheets)))\n",
    "        else:\n",
    "            sheet_names = data_sheets\n",
    "        # print(sheet_names)\n",
    "        \n",
    "        for sheet_name in sheet_names:\n",
    "            # 1.Select specified table\n",
    "            table = data.sheet_by_name(sheet_name)\n",
    "            # table = data.sheet_by_index(0)\n",
    "            if table:\n",
    "                # 2.Select specified column\n",
    "                col_format = ['A', 'B', 'C', 'D', 'E', 'F', 'G', 'H', 'I', 'J', 'K', 'L', 'M', 'N']\n",
    "                try:\n",
    "                    nrows = table.nrows\n",
    "                    ncols = table.ncols\n",
    "                    str_upcase = [i for i in string.ascii_uppercase]\n",
    "                    i_upcase = range(len(str_upcase))\n",
    "                    ncols_dir = dict(zip(str_upcase, i_upcase))\n",
    "                    col_index = [ncols_dir.get(i) for i in col_format]\n",
    "                    \n",
    "                    # 显示全部子主题\n",
    "                    # for i in range(2, nrows):\n",
    "                        # for j in range(0, ncols):\n",
    "                            # print(table.cell(i, col_index[j]).value)\n",
    "\n",
    "                    merge_cell_index = []\n",
    "                    for (rlow,rhigh,clow,chigh) in table.merged_cells:\n",
    "                        merge_cell_index.append((rlow,clow))\n",
    "                    print(\"merge_cells:\\n\", table.merged_cells)\n",
    "                    print(\"merge_cell_index:\\n\", merge_cell_index)\n",
    "                            \n",
    "                    # 第一行：中心主题\n",
    "                    main_topic = table.cell(0, col_index[0]).value\n",
    "                    print(\"main_topic:\", main_topic)\n",
    "                    # 第二行：层级数目\n",
    "                    max_level = table.cell(1, col_index[ncols-1]).value\n",
    "                    print(\"max_level:\", max_level)\n",
    "\n",
    "                    # step_1: xls to dict\n",
    "                    temp = self.xmind\n",
    "                    temp[main_topic] = {}\n",
    "                    temp = temp[main_topic] \n",
    "                    # print(\"xmind:\", self.xmind)\n",
    "                    # print(\"temp:\", temp)\n",
    "                    \n",
    "                    rlow = 2\n",
    "                    rhigh = nrows\n",
    "                    clow = 0\n",
    "                    \n",
    "                    def mindmap(rlow, rhigh, clow, temp):\n",
    "                        # print(rlow, rhigh, clow, temp)\n",
    "                        i = rlow\n",
    "                        j = clow\n",
    "                        reset = temp # 保存初始主题以便处理完子主题后重置\n",
    "                        while i < rhigh:\n",
    "                            # 无合并单元格（无子主题或只有单个子主题）\n",
    "                            if (i, j) not in merge_cell_index:\n",
    "                                for j in range(clow, ncols):\n",
    "                                    key = table.cell(i, col_index[j]).value\n",
    "                                    if not key:\n",
    "                                        break\n",
    "                                    temp[key] = {}\n",
    "                                    temp = temp[key]\n",
    "                                i += 1\n",
    "                                j = clow\n",
    "                                temp = reset\n",
    "                            # 有合并单元格（有多个子主题）\n",
    "                            else:\n",
    "                                key = table.cell(i, col_index[j]).value\n",
    "                                temp[key] = {}\n",
    "                                temp = temp[key]\n",
    "                                for (rl,rh,cl,ch) in table.merged_cells:\n",
    "                                    if i==rl and j==cl:\n",
    "                                        sub_rhigh = rh\n",
    "                                mindmap(i, sub_rhigh, j+1, temp)\n",
    "                                i = sub_rhigh\n",
    "                                temp = reset\n",
    "\n",
    "                    mindmap(rlow, rhigh, clow, temp)\n",
    "                    # print(\"xmind:\", self.xmind)\n",
    "                                \n",
    "                    # step_2: dict to graph\n",
    "                    \n",
    "                except Exception as error:\n",
    "                    print('Error: %s' % error)\n",
    "                    return None\n",
    "            else:\n",
    "                print('Error! Data of %s is empty!' % sheet_name)\n",
    "                return None"
   ]
  },
  {
   "cell_type": "markdown",
   "metadata": {},
   "source": [
    "## 分析 XMind 导出的 xls 文件格式\n",
    "### 由输出格式可以看出对于合并的单元格内容可以用低位索引"
   ]
  },
  {
   "cell_type": "code",
   "execution_count": 124,
   "metadata": {},
   "outputs": [
    {
     "name": "stdout",
     "output_type": "stream",
     "text": [
      "merge_cells:\n",
      " [(0, 1, 0, 10), (2, 27, 0, 1), (27, 85, 0, 1), (85, 136, 0, 1), (136, 140, 0, 1), (140, 150, 0, 1), (2, 4, 1, 2), (4, 20, 1, 2), (20, 27, 1, 2), (27, 77, 1, 2), (81, 85, 1, 2), (85, 122, 1, 2), (122, 124, 1, 2), (125, 128, 1, 2), (128, 136, 1, 2), (141, 145, 1, 2), (146, 149, 1, 2), (4, 6, 2, 3), (6, 8, 2, 3), (8, 13, 2, 3), (13, 15, 2, 3), (15, 18, 2, 3), (18, 20, 2, 3), (20, 22, 2, 3), (22, 24, 2, 3), (25, 27, 2, 3), (27, 58, 2, 3), (58, 68, 2, 3), (68, 77, 2, 3), (81, 83, 2, 3), (83, 85, 2, 3), (85, 96, 2, 3), (96, 111, 2, 3), (111, 116, 2, 3), (116, 120, 2, 3), (120, 122, 2, 3), (130, 136, 2, 3), (141, 144, 2, 3), (8, 12, 3, 4), (13, 15, 3, 4), (27, 35, 3, 4), (35, 54, 3, 4), (54, 57, 3, 4), (69, 77, 3, 4), (83, 85, 3, 4), (85, 87, 3, 4), (87, 89, 3, 4), (89, 94, 3, 4), (96, 99, 3, 4), (99, 106, 3, 4), (106, 111, 3, 4), (111, 113, 3, 4), (113, 116, 3, 4), (130, 136, 3, 4), (8, 10, 4, 5), (10, 12, 4, 5), (13, 15, 4, 5), (35, 54, 4, 5), (89, 91, 4, 5), (92, 94, 4, 5), (99, 103, 4, 5), (103, 105, 4, 5), (106, 109, 4, 5), (109, 111, 4, 5), (133, 136, 4, 5), (100, 103, 5, 6), (133, 135, 5, 6), (101, 103, 6, 7)]\n",
      "merge_cell_index:\n",
      " [(0, 0), (2, 0), (27, 0), (85, 0), (136, 0), (140, 0), (2, 1), (4, 1), (20, 1), (27, 1), (81, 1), (85, 1), (122, 1), (125, 1), (128, 1), (141, 1), (146, 1), (4, 2), (6, 2), (8, 2), (13, 2), (15, 2), (18, 2), (20, 2), (22, 2), (25, 2), (27, 2), (58, 2), (68, 2), (81, 2), (83, 2), (85, 2), (96, 2), (111, 2), (116, 2), (120, 2), (130, 2), (141, 2), (8, 3), (13, 3), (27, 3), (35, 3), (54, 3), (69, 3), (83, 3), (85, 3), (87, 3), (89, 3), (96, 3), (99, 3), (106, 3), (111, 3), (113, 3), (130, 3), (8, 4), (10, 4), (13, 4), (35, 4), (89, 4), (92, 4), (99, 4), (103, 4), (106, 4), (109, 4), (133, 4), (100, 5), (133, 5), (101, 6)]\n",
      "main_topic: 厨房问答系统\n",
      "max_level: Level 10\n",
      "xmind: {'厨房问答系统': {'整体流程': {'语音识别': {'语音唤醒': {}, '语音听写': {}}, '语义分析': {'文本纠错': {'概率模型': {}, '实体对应': {}}, '垃圾过滤': {'检索': {}, '文本匹配': {}}, '文本分类': {'问句模板': {'例子': {'什么菜怎么做': {}, '什么菜怎么吃': {}}, '动词': {'搜集整理': {}, '上下文': {}}}, 'CNN': {'二分类': {}}}, '实体及属性抽取': {'例子': {'秘制牛肝菌怎么做': {'牛肝菌': {}, '做': {}}}}, '逻辑表达式生成': {'与': {'土豆豆角': {}}, '或': {'土豆或豆角': {}}, '非': {'辣与不辣': {}}}, 'SPARQL 查询生成': {'生成方法': {}, 'Apache Jena 开源': {}}}, '答案生成': {'数据库查询': {'ID': {}, '属性': {}}, 'ES 检索': {'ElasticSearch': {}, '实体': {}}, '领域知识图谱查询': {'语义和实体之间有推理关系': {}}, 'ES vs. KG': {'ES 基于关键字搜索，语义信息较少': {}, '知识图谱根据关键词上下位关系搜索，语义信息丰富，搜索结果更准确': {}}}}, '功能组成': {'菜谱': {'多维度': {'属性': {'菜系': {'川菜、徽菜等': {}}, '菜型': {'粥、粉等': {}}, '工艺': {'蒸、煮等': {}}, '功效': {'祛湿、糖尿病、高血压等': {}}, '口味': {'甜、酸等': {}}, '人群': {'孕妇、儿童等': {}}, '场景': {'早餐、午餐等': {}}, '食材': {'土豆、香菇等': {}}}, '最小化节点示例': {'秘制牛肝菌': {'菜名 ID': {}, '核心菜名': {}, '热度': {}, '菜系': {}, '菜型': {}, '功效': {}, '描述': {}, '味道': {}, '场景': {}, '人群': {}, '点赞次数': {}, '播放次数': {}, '做菜步骤': {}, '烹饪方式': {}, '烹饪时间': {}, '难易度': {}, '字面食材名': {}, '食材': {}, '食材量': {}}}, '问法': {'单独': {}, '二元组合': {}, '多元组合': {}}, '如何解决？': {'网格搜索': {}}}, '同义表达': {'秘制牛肝菌': {}, '秘制牛肝菌怎么做': {}, '秘制牛肝菌怎么炒': {}, '秘制牛肝菌的菜谱': {}, '你能教我做秘制牛肝菌吗': {}, '查一下秘制牛肝菌的做法': {}, '我想吃秘制牛肝菌': {}, '我该怎么做秘制牛肝菌': {}, '怎么做秘制牛肝菌才好吃': {}, '你会做秘制牛肝菌吗': {}}, '上下文': {'语音指令': {}, '页面指令': {'下一页': {}, '换一页': {}, '下一步': {}, '最后一步': {}, '看一下视频': {}, '看一下步骤': {}, '看一下第5个': {}, '看一下食材': {}}}}, '部门': {}, '物资': {}, '音乐': {}, '视频': {}, '厨电控制': {'中控系统': {'打开油烟机': {}, '打开灶具': {}}, '联动': {'语音：我想炒菜': {'打开油烟机': {}, '打开灶具': {}}}}}, '技术运用': {'整体框架': {'数据存储': {'Hbase': {'写入速度': {}, '读取速度': {}}, 'MongDB': {'写入速度': {}, '读取速度': {}}, '图数据': {'三元组': {'OWL': {}, 'RDF': {}}, 'TDB': {}, 'Neo4j': {'收费': {}, '节点个数限定': {}}}, '指令级索引': {'Trie 树': {}}, '缓存': {'Redis': {}}}, '数据采集': {'垂直网站': {'掌厨': {}, '下厨房': {}, '豆果': {}}, '人工编辑': {'问句': {'种子问句': {'分词': {'word2vec 训练': {'找出相关词，标记位置序列': {'笛卡尔积': {}}}}}, '自动生成': {'大规模': {}, '文本纠错': {'马尔科夫链': {}, '人工筛选': {}}}}, '动词': {'有穷尽': {}, '菜谱相关200多个': {}}, '同义词': {}}, '开放': {'开放知识库': {'同义词词林': {}, 'OpenKG': {}, 'WordNet': {}}, '爬虫获取': {'百科': {}, '其它': {}}}}, '知识库构建': {'知识融合': {'时序融合': {}, '多源融合': {}}, '知识计算': {'属性': {}, '实体': {}, '关系': {}}}, '数据访问': {'自然语言查询': {}, '逻辑表达式': {}, 'SPARQL': {}, 'SDK': {}}, '知识运用': {'语义搜索': {}, '知识问答': {'领域：厨房': {'每道菜的19个属性': {}}}}}, '知识图谱构建': {'菜谱 OWL': {}, 'TDB': {}}, '搜索流程': {}, '语义搜索': {'单属性': {'菜名': {}}, '单属性值': {'食材': {}}, '多属性': {'混合': {}}}, '查询性能': {'流程': {}, '数据库': {'TDB': {}}, '细节': {'未登录属性值': {'例子：不辣': {}, '对应：辣': {}, '原始方案': {'穷举其他属性': {}}, '优化方案': {'近似反义': {'甜': {}, '酸': {}}, '离线处理': {}}}}}}, 'FAQ': {'相关性查询': {}, '知识图谱同步': {}, '检索结果排序': {}, '三元组存储': {}}, '挑战': {'跨领域': {}, '语义理解过程': {'目前': {'文本分类': {}, '属性抽取': {}, '逻辑查询': {}}, '方向': {'直接应用到知识图谱': {}}}, '公式 or 训练？': {}, '汉语语义图谱': {'汉字': {}, '常用词': {}, '关系': {}}, '趋势': {}}}}\n",
      "{'厨房问答系统': {'整体流程': {'语音识别': {'语音唤醒': {}, '语音听写': {}}, '语义分析': {'文本纠错': {'概率模型': {}, '实体对应': {}}, '垃圾过滤': {'检索': {}, '文本匹配': {}}, '文本分类': {'问句模板': {'例子': {'什么菜怎么做': {}, '什么菜怎么吃': {}}, '动词': {'搜集整理': {}, '上下文': {}}}, 'CNN': {'二分类': {}}}, '实体及属性抽取': {'例子': {'秘制牛肝菌怎么做': {'牛肝菌': {}, '做': {}}}}, '逻辑表达式生成': {'与': {'土豆豆角': {}}, '或': {'土豆或豆角': {}}, '非': {'辣与不辣': {}}}, 'SPARQL 查询生成': {'生成方法': {}, 'Apache Jena 开源': {}}}, '答案生成': {'数据库查询': {'ID': {}, '属性': {}}, 'ES 检索': {'ElasticSearch': {}, '实体': {}}, '领域知识图谱查询': {'语义和实体之间有推理关系': {}}, 'ES vs. KG': {'ES 基于关键字搜索，语义信息较少': {}, '知识图谱根据关键词上下位关系搜索，语义信息丰富，搜索结果更准确': {}}}}, '功能组成': {'菜谱': {'多维度': {'属性': {'菜系': {'川菜、徽菜等': {}}, '菜型': {'粥、粉等': {}}, '工艺': {'蒸、煮等': {}}, '功效': {'祛湿、糖尿病、高血压等': {}}, '口味': {'甜、酸等': {}}, '人群': {'孕妇、儿童等': {}}, '场景': {'早餐、午餐等': {}}, '食材': {'土豆、香菇等': {}}}, '最小化节点示例': {'秘制牛肝菌': {'菜名 ID': {}, '核心菜名': {}, '热度': {}, '菜系': {}, '菜型': {}, '功效': {}, '描述': {}, '味道': {}, '场景': {}, '人群': {}, '点赞次数': {}, '播放次数': {}, '做菜步骤': {}, '烹饪方式': {}, '烹饪时间': {}, '难易度': {}, '字面食材名': {}, '食材': {}, '食材量': {}}}, '问法': {'单独': {}, '二元组合': {}, '多元组合': {}}, '如何解决？': {'网格搜索': {}}}, '同义表达': {'秘制牛肝菌': {}, '秘制牛肝菌怎么做': {}, '秘制牛肝菌怎么炒': {}, '秘制牛肝菌的菜谱': {}, '你能教我做秘制牛肝菌吗': {}, '查一下秘制牛肝菌的做法': {}, '我想吃秘制牛肝菌': {}, '我该怎么做秘制牛肝菌': {}, '怎么做秘制牛肝菌才好吃': {}, '你会做秘制牛肝菌吗': {}}, '上下文': {'语音指令': {}, '页面指令': {'下一页': {}, '换一页': {}, '下一步': {}, '最后一步': {}, '看一下视频': {}, '看一下步骤': {}, '看一下第5个': {}, '看一下食材': {}}}}, '部门': {}, '物资': {}, '音乐': {}, '视频': {}, '厨电控制': {'中控系统': {'打开油烟机': {}, '打开灶具': {}}, '联动': {'语音：我想炒菜': {'打开油烟机': {}, '打开灶具': {}}}}}, '技术运用': {'整体框架': {'数据存储': {'Hbase': {'写入速度': {}, '读取速度': {}}, 'MongDB': {'写入速度': {}, '读取速度': {}}, '图数据': {'三元组': {'OWL': {}, 'RDF': {}}, 'TDB': {}, 'Neo4j': {'收费': {}, '节点个数限定': {}}}, '指令级索引': {'Trie 树': {}}, '缓存': {'Redis': {}}}, '数据采集': {'垂直网站': {'掌厨': {}, '下厨房': {}, '豆果': {}}, '人工编辑': {'问句': {'种子问句': {'分词': {'word2vec 训练': {'找出相关词，标记位置序列': {'笛卡尔积': {}}}}}, '自动生成': {'大规模': {}, '文本纠错': {'马尔科夫链': {}, '人工筛选': {}}}}, '动词': {'有穷尽': {}, '菜谱相关200多个': {}}, '同义词': {}}, '开放': {'开放知识库': {'同义词词林': {}, 'OpenKG': {}, 'WordNet': {}}, '爬虫获取': {'百科': {}, '其它': {}}}}, '知识库构建': {'知识融合': {'时序融合': {}, '多源融合': {}}, '知识计算': {'属性': {}, '实体': {}, '关系': {}}}, '数据访问': {'自然语言查询': {}, '逻辑表达式': {}, 'SPARQL': {}, 'SDK': {}}, '知识运用': {'语义搜索': {}, '知识问答': {'领域：厨房': {'每道菜的19个属性': {}}}}}, '知识图谱构建': {'菜谱 OWL': {}, 'TDB': {}}, '搜索流程': {}, '语义搜索': {'单属性': {'菜名': {}}, '单属性值': {'食材': {}}, '多属性': {'混合': {}}}, '查询性能': {'流程': {}, '数据库': {'TDB': {}}, '细节': {'未登录属性值': {'例子：不辣': {}, '对应：辣': {}, '原始方案': {'穷举其他属性': {}}, '优化方案': {'近似反义': {'甜': {}, '酸': {}}, '离线处理': {}}}}}}, 'FAQ': {'相关性查询': {}, '知识图谱同步': {}, '检索结果排序': {}, '三元组存储': {}}, '挑战': {'跨领域': {}, '语义理解过程': {'目前': {'文本分类': {}, '属性抽取': {}, '逻辑查询': {}}, '方向': {'直接应用到知识图谱': {}}}, '公式 or 训练？': {}, '汉语语义图谱': {'汉字': {}, '常用词': {}, '关系': {}}, '趋势': {}}}}\n"
     ]
    }
   ],
   "source": [
    "kg = KG(password=\"train\")\n",
    "kg.merge(filepath=\"./sample/kg.xls\")\n",
    "print(kg.xmind)"
   ]
  },
  {
   "cell_type": "code",
   "execution_count": null,
   "metadata": {
    "collapsed": true
   },
   "outputs": [],
   "source": []
  }
 ],
 "metadata": {
  "kernelspec": {
   "display_name": "Python 3",
   "language": "python",
   "name": "python3"
  },
  "language_info": {
   "codemirror_mode": {
    "name": "ipython",
    "version": 3
   },
   "file_extension": ".py",
   "mimetype": "text/x-python",
   "name": "python",
   "nbconvert_exporter": "python",
   "pygments_lexer": "ipython3",
   "version": "3.6.1"
  }
 },
 "nbformat": 4,
 "nbformat_minor": 2
}
